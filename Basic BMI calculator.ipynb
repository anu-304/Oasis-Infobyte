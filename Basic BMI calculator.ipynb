{
 "cells": [
  {
   "cell_type": "code",
   "execution_count": 8,
   "id": "31d32eab-5c20-4b5a-9c69-8b9714abbfca",
   "metadata": {},
   "outputs": [
    {
     "name": "stdin",
     "output_type": "stream",
     "text": [
      "Enter you height in metres:  1.75\n",
      "Enter your weight in kilograms:  70\n"
     ]
    },
    {
     "name": "stdout",
     "output_type": "stream",
     "text": [
      "Your bmi is: 22.86\n",
      "Category:  Normal Weight\n"
     ]
    }
   ],
   "source": [
    "#BMI calculator\n",
    "def bmi(h,w):\n",
    "    try:\n",
    "        res=w/(h*h)\n",
    "        return res\n",
    "    except ZeroDivisionError:\n",
    "        return None\n",
    "        \n",
    "def calculate_category(bmi):\n",
    "    if bmi==None:\n",
    "        return \"your height is 0.Enter valid height\"\n",
    "    elif bmi<=18.49:\n",
    "        return \"Underwight\"\n",
    "    elif bmi>=18.5 and bmi<=24.99:\n",
    "        return \"Normal Weight\"\n",
    "    elif bmi>=25 and bmi<=29.99:\n",
    "        return \"overweight\"\n",
    "    elif bmi>=30 and bmi<=39.99:\n",
    "        return \"Obese\"\n",
    "    else:\n",
    "        return \" Morbidly Obese\"\n",
    "\n",
    "\n",
    "h=float(input(\"Enter you height in metres: \"))\n",
    "w=float(input(\"Enter your weight in kilograms: \"))\n",
    "\n",
    "res=bmi(h,w)\n",
    "print(\"Your bmi is: %.2f\"% res)\n",
    "\n",
    "category=calculate_category(res)\n",
    "print(\"Category: \",category)\n"
   ]
  },
  {
   "cell_type": "code",
   "execution_count": null,
   "id": "6760f67d-b536-4995-8d19-c48ac8be8931",
   "metadata": {},
   "outputs": [],
   "source": []
  }
 ],
 "metadata": {
  "kernelspec": {
   "display_name": "Python 3 (ipykernel)",
   "language": "python",
   "name": "python3"
  },
  "language_info": {
   "codemirror_mode": {
    "name": "ipython",
    "version": 3
   },
   "file_extension": ".py",
   "mimetype": "text/x-python",
   "name": "python",
   "nbconvert_exporter": "python",
   "pygments_lexer": "ipython3",
   "version": "3.11.7"
  }
 },
 "nbformat": 4,
 "nbformat_minor": 5
}
