{
 "cells": [
  {
   "cell_type": "code",
   "execution_count": 41,
   "id": "1bab317b-aba6-4015-b3a3-70f37d450ef6",
   "metadata": {},
   "outputs": [
    {
     "name": "stdin",
     "output_type": "stream",
     "text": [
      "Enter the length of the Password:  -1\n"
     ]
    },
    {
     "name": "stdout",
     "output_type": "stream",
     "text": [
      "Error:  Length should be in postive number and should have atleast two characters \n"
     ]
    },
    {
     "name": "stdin",
     "output_type": "stream",
     "text": [
      "Do you want to generate password (yes/no) : yes\n",
      "Enter the length of the Password:  6\n",
      "Enter your character set preference (letters,digits,symbols) separated by comma:  letter\n"
     ]
    },
    {
     "name": "stdout",
     "output_type": "stream",
     "text": [
      "Error:  No password generated,give the correct option\n"
     ]
    },
    {
     "name": "stdin",
     "output_type": "stream",
     "text": [
      "Do you want to generate password (yes/no) : yes\n",
      "Enter the length of the Password:  6\n",
      "Enter your character set preference (letters,digits,symbols) separated by comma:  letters,symbols\n"
     ]
    },
    {
     "name": "stdout",
     "output_type": "stream",
     "text": [
      "YOYkeT\n"
     ]
    },
    {
     "name": "stdin",
     "output_type": "stream",
     "text": [
      "If you want the password copied to clipboard (yes/no) : yes\n"
     ]
    },
    {
     "name": "stdout",
     "output_type": "stream",
     "text": [
      "Password copied to clipboard\n"
     ]
    },
    {
     "name": "stdin",
     "output_type": "stream",
     "text": [
      "Do you want to generate password (yes/no) : no\n"
     ]
    },
    {
     "name": "stdout",
     "output_type": "stream",
     "text": [
      "Exiting the program.\n"
     ]
    }
   ],
   "source": [
    "import random \n",
    "import string\n",
    "import pyperclip\n",
    "\n",
    "def len_check(l):\n",
    "    if l<=1:\n",
    "        raise ValueError(\"Length should be in postive number and should have atleast two characters \")\n",
    "    return l\n",
    "\n",
    "def generate_pas(l,char_pref):\n",
    "    char=''\n",
    "    if 'letters' in char_pref:\n",
    "        char=char+string.ascii_letters\n",
    "    if 'digits' in char_pref:\n",
    "        char=char+string.digits\n",
    "    if 'symbols' in char_pref:\n",
    "        char=char+string.punctuation\n",
    "    if not  char:\n",
    "        raise ValueError(\"No password generated,give the correct option\")\n",
    "    return ''.join(random.choices(char,k=l))\n",
    "\n",
    "def copy_clipboard(ch): \n",
    "    if 'yes' in ch:    \n",
    "        pyperclip.copy(pas)\n",
    "        return \"Password copied to clipboard\"\n",
    "    if 'no' in ch:\n",
    "        return \"Password is not copied to clipboard\"\n",
    "\n",
    "while(True):\n",
    "    try:\n",
    "        l=int(input(\"Enter the length of the Password: \"))\n",
    "        check = len_check(l)\n",
    "\n",
    "        char_pref=input(\"Enter your character set preference (letters,digits,symbols) separated by comma: \")\n",
    "        pas=generate_pas(l,char_pref)\n",
    "\n",
    "        print(pas)\n",
    "\n",
    "        ch=input(\"If you want the password copied to clipboard (yes/no) :\")\n",
    "        copy=copy_clipboard(ch)\n",
    "        print(copy)\n",
    "    \n",
    "    except ValueError as e:\n",
    "        print(\"Error: \",e)\n",
    "    again=input(\"Do you want to generate password (yes/no) :\")\n",
    "    if 'no' in again.lower():\n",
    "        print(\"Exiting the program.\")\n",
    "        break"
   ]
  },
  {
   "cell_type": "code",
   "execution_count": 7,
   "id": "acf7546a-e4e3-4b55-b442-6ebe3e84f6ba",
   "metadata": {
    "scrolled": true
   },
   "outputs": [
    {
     "name": "stdout",
     "output_type": "stream",
     "text": [
      "Collecting pyperclipNote: you may need to restart the kernel to use updated packages.\n",
      "\n",
      "  Downloading pyperclip-1.9.0.tar.gz (20 kB)\n",
      "  Preparing metadata (setup.py): started\n",
      "  Preparing metadata (setup.py): finished with status 'done'\n",
      "Building wheels for collected packages: pyperclip\n",
      "  Building wheel for pyperclip (setup.py): started\n",
      "  Building wheel for pyperclip (setup.py): finished with status 'done'\n",
      "  Created wheel for pyperclip: filename=pyperclip-1.9.0-py3-none-any.whl size=11019 sha256=8885ea35cae79d2d3f8f00b9332bffdc729492804d8362b29451f6fb38d0ef19\n",
      "  Stored in directory: c:\\users\\hp\\appdata\\local\\pip\\cache\\wheels\\e8\\e7\\56\\591cb88ba1783b38c40d584026e766aac9c3a048e34128ce8b\n",
      "Successfully built pyperclip\n",
      "Installing collected packages: pyperclip\n",
      "Successfully installed pyperclip-1.9.0\n"
     ]
    }
   ],
   "source": [
    "pip install pyperclip #to copy to clipboard"
   ]
  }
 ],
 "metadata": {
  "kernelspec": {
   "display_name": "Python 3 (ipykernel)",
   "language": "python",
   "name": "python3"
  },
  "language_info": {
   "codemirror_mode": {
    "name": "ipython",
    "version": 3
   },
   "file_extension": ".py",
   "mimetype": "text/x-python",
   "name": "python",
   "nbconvert_exporter": "python",
   "pygments_lexer": "ipython3",
   "version": "3.11.7"
  }
 },
 "nbformat": 4,
 "nbformat_minor": 5
}
